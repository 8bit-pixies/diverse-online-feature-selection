{
 "cells": [
  {
   "cell_type": "code",
   "execution_count": 14,
   "metadata": {
    "collapsed": true,
    "jupyter": {
     "outputs_hidden": true
    }
   },
   "outputs": [],
   "source": [
    "from sklearn.datasets import make_regression, make_classification\n",
    "from sklearn.model_selection import KFold\n",
    "from sklearn.model_selection import cross_val_score\n",
    "from sklearn.metrics import mean_squared_error, accuracy_score\n",
    "from sklearn.metrics import make_scorer\n",
    "from sklearn.metrics.pairwise import rbf_kernel\n",
    "\n",
    "from scipy.cluster import hierarchy\n",
    "from scipy.spatial.distance import pdist, squareform\n",
    "from scipy.sparse import *\n",
    "\n",
    "from sklearn.feature_selection import RFE, SelectKBest\n",
    "from sklearn.pipeline import Pipeline\n",
    "from sklearn.decomposition import PCA, KernelPCA\n",
    "from sklearn.pipeline import Pipeline\n",
    "from sklearn.feature_selection import VarianceThreshold, f_classif, SelectKBest\n",
    "\n",
    "import numpy as np\n",
    "import random\n",
    "\n",
    "from sklearn.preprocessing import minmax_scale"
   ]
  },
  {
   "cell_type": "code",
   "execution_count": 15,
   "metadata": {
    "collapsed": true,
    "jupyter": {
     "outputs_hidden": true
    }
   },
   "outputs": [],
   "source": [
    "%matplotlib inline\n",
    "import matplotlib\n",
    "matplotlib.rcParams['figure.figsize'] = (10, 10)"
   ]
  },
  {
   "cell_type": "code",
   "execution_count": 16,
   "metadata": {
    "collapsed": true,
    "jupyter": {
     "outputs_hidden": true
    }
   },
   "outputs": [],
   "source": [
    "X, y = make_classification(n_samples=1000, n_features=400, n_informative=50, n_redundant=40, \n",
    "                           n_repeated=3, random_state=42)"
   ]
  },
  {
   "cell_type": "code",
   "execution_count": 17,
   "metadata": {},
   "outputs": [
    {
     "data": {
      "text/plain": [
       "'\\nwe will try to learn X, y\\n\\nHow this will work is as follows:\\n\\n1.  We will stream each feature one at a time\\n2.  When a feature is accepted we will retrospectively assess whether it is now redundant\\n3.  Go back to 1 until complete\\n\\nThis algorithm will be based on IIC for streaming. (alpha investing...)\\n\\n'"
      ]
     },
     "execution_count": 17,
     "metadata": {},
     "output_type": "execute_result"
    }
   ],
   "source": [
    "\"\"\"\n",
    "we will try to learn X, y\n",
    "\n",
    "How this will work is as follows:\n",
    "\n",
    "1.  We will stream each feature one at a time\n",
    "2.  When a feature is accepted we will retrospectively assess whether it is now redundant\n",
    "3.  Go back to 1 until complete\n",
    "\n",
    "This algorithm will be based on IIC for streaming. (alpha investing...)\n",
    "\n",
    "\"\"\"\n",
    "# https://alliance.seas.upenn.edu/~datamine/wiki/index.php?title=Streamwise_feature_selection"
   ]
  },
  {
   "cell_type": "code",
   "execution_count": 18,
   "metadata": {
    "collapsed": true,
    "jupyter": {
     "outputs_hidden": true
    }
   },
   "outputs": [],
   "source": [
    "from sklearn.linear_model import SGDRegressor, SGDClassifier"
   ]
  },
  {
   "cell_type": "code",
   "execution_count": 19,
   "metadata": {},
   "outputs": [
    {
     "data": {
      "text/plain": [
       "SGDClassifier(alpha=0.0001, average=False, class_weight=None, epsilon=0.1,\n",
       "       eta0=0.0, fit_intercept=True, l1_ratio=0.15,\n",
       "       learning_rate='optimal', loss='log', n_iter=5, n_jobs=1,\n",
       "       penalty='elasticnet', power_t=0.5, random_state=42, shuffle=True,\n",
       "       verbose=0, warm_start=False)"
      ]
     },
     "execution_count": 19,
     "metadata": {},
     "output_type": "execute_result"
    }
   ],
   "source": [
    "mod = SGDClassifier(loss='log', penalty='elasticnet', random_state=42)\n",
    "mod.fit(X, y)"
   ]
  },
  {
   "cell_type": "code",
   "execution_count": 20,
   "metadata": {},
   "outputs": [
    {
     "data": {
      "text/plain": [
       "<Container object of 400 artists>"
      ]
     },
     "execution_count": 20,
     "metadata": {},
     "output_type": "execute_result"
    },
    {
     "data": {
      "image/png": "[encoded data removed]",
      "text/plain": [
       "<matplotlib.figure.Figure at 0x28db3908320>"
      ]
     },
     "metadata": {},
     "output_type": "display_data"
    }
   ],
   "source": [
    "%matplotlib inline\n",
    "import matplotlib.pyplot as plt\n",
    "plt.bar(range(len(mod.coef_.flatten())), mod.coef_.flatten())"
   ]
  },
  {
   "cell_type": "code",
   "execution_count": 21,
   "metadata": {},
   "outputs": [
    {
     "name": "stdout",
     "output_type": "stream",
     "text": [
      "accuracy: 0.737\n"
     ]
    }
   ],
   "source": [
    "yhat = mod.predict(X)\n",
    "mse = accuracy_score(y, yhat)\n",
    "print(\"accuracy: {}\".format(mse))"
   ]
  },
  {
   "cell_type": "markdown",
   "metadata": {},
   "source": [
    "Make this scikit learn compatible."
   ]
  },
  {
   "cell_type": "code",
   "execution_count": 22,
   "metadata": {
    "collapsed": true,
    "jupyter": {
     "outputs_hidden": true
    }
   },
   "outputs": [],
   "source": [
    "from sklearn.base import BaseEstimator\n",
    "from sklearn.feature_selection.base import SelectorMixin\n",
    "from sklearn.utils.validation import check_is_fitted\n",
    "\n",
    "from sklearn.metrics.pairwise import rbf_kernel\n",
    "import numpy as np\n",
    "from dpp import sample_dpp, decompose_kernel\n",
    "\n",
    "def dpp_sample_k(items, L, k, max_nb_iterations=1000):\n",
    "    \"\"\"\n",
    "    Sample a list of k items from a DPP defined\n",
    "    by the similarity matrix L. The algorithm\n",
    "    is iterative and runs for max_nb_iterations.\n",
    "    The algorithm used is from\n",
    "    (Fast Determinantal Point Process Sampling with\n",
    "    Application to Clustering, Byungkon Kang, NIPS 2013)\n",
    "    \n",
    "    \n",
    "    \"\"\"\n",
    "    initial = np.random.choice(range(len(items)), size=k, replace=False)\n",
    "    X = [False] * len(items)\n",
    "    for i in initial:\n",
    "        X[i] = True\n",
    "    X = np.array(X)\n",
    "    for i in range(max_nb_iterations):\n",
    "        u = np.random.choice(np.arange(len(items))[X])\n",
    "        v = np.random.choice(np.arange(len(items))[~X])\n",
    "        Y = X.copy()\n",
    "        Y[u] = False\n",
    "        L_Y = L[Y, :]\n",
    "        L_Y = L_Y[:, Y]\n",
    "        try:\n",
    "            L_Y_inv = np.linalg.inv(L_Y)\n",
    "        except:\n",
    "            pass\n",
    "\n",
    "        c_v = L[v:v+1, :]\n",
    "        c_v = c_v[:, v:v+1]\n",
    "        b_v = L[Y, :]\n",
    "        b_v = b_v[:, v:v+1]\n",
    "        c_u = L[u:u+1, :]\n",
    "        c_u = c_u[:, u:u+1]\n",
    "        b_u = L[Y, :]\n",
    "        b_u = b_u[:, u:u+1]\n",
    "\n",
    "        p = min(1, c_v - np.dot(np.dot(b_v.T, L_Y_inv), b_v) /\n",
    "                (c_u - np.dot(np.dot(b_u.T, L_Y_inv.T), b_u)))\n",
    "        if np.random.uniform() <= p:\n",
    "            X = Y[:]\n",
    "            X[v] = True\n",
    "    return np.array(items)[X]\n",
    "\n",
    "class DPPSelector(BaseEstimator, SelectorMixin):\n",
    "    \"\"\"\n",
    "    Implements a DPP feature selector to select (in unsupervised way or otherwise)\n",
    "    a set of diverse features. \n",
    "    \n",
    "    Parameters\n",
    "    ==========\n",
    "    \n",
    "    *  num_feats: number of features to select (as a fraction)\n",
    "    *  num_rows: number of rows to sample for DPP sampling, if set to None, then will use full data to sample. \n",
    "    \n",
    "    \"\"\"\n",
    "    def __init__(self, n_features=10, L=None, metric=rbf_kernel):\n",
    "        self.n_features = n_features\n",
    "        self.L = L\n",
    "        self.metric=metric\n",
    "    \n",
    "    def fit(self, X, y=None):\n",
    "        #def dpp_feature_selection(X, L=None, metric=rbf_kernel, num_feats=0.5):\n",
    "        import math\n",
    "        if self.n_features == X.shape[1]:\n",
    "            self.indices_ = np.ones(X.shape[1], dtype=np.bool)\n",
    "            return self\n",
    "        if self.L is None:\n",
    "            try:\n",
    "                feat_dist = squareform(self.metric(X.T), force='tovector', checks=False)\n",
    "                feat_dist = squareform(feat_dist)\n",
    "            except:\n",
    "                feat_dist = self.metric(X.T)\n",
    "                feat_dist = squareform(feat_dist)\n",
    "        else:\n",
    "            feat_dist = L\n",
    "        \n",
    "        #feat_index = dpp_sample_k(list(range(X.shape[1])), feat_dist, \n",
    "        #                          self.n_features, self.max_nb_iterations)\n",
    "        feat_index = sample_dpp(decompose_kernel(feat_dist), k=self.n_features)\n",
    "        #return feat_index\n",
    "        dppmask = np.zeros(X.shape[1])\n",
    "        dppmask[feat_index] = 1\n",
    "        self.indices_ = dppmask.astype(np.bool)\n",
    "        return self\n",
    "    \n",
    "    def _get_support_mask(self):\n",
    "        check_is_fitted(self, 'indices_')\n",
    "        return self.indices_"
   ]
  },
  {
   "cell_type": "code",
   "execution_count": 23,
   "metadata": {},
   "outputs": [],
   "source": [
    "class RandomSelector(BaseEstimator, SelectorMixin):\n",
    "    \"\"\"\n",
    "    Random selector is the baseline, and simply selects a random subset...    \n",
    "    \"\"\"\n",
    "    def __init__(self, n_features=10):\n",
    "        self.n_features = n_features\n",
    "    def fit(self, X, y=None):\n",
    "        #def dpp_feature_selection(X, L=None, metric=rbf_kernel, num_feats=0.5):\n",
    "        import random\n",
    "        import math\n",
    "        if self.n_features == X.shape[1]:\n",
    "            self.indices_ = np.ones(X.shape[1], dtype=np.bool)\n",
    "            return self\n",
    "        self.indices_ = np.zeros(X.shape[1], dtype=np.bool)\n",
    "        indx = random.sample(list(range(X.shape[1])), self.n_features)\n",
    "        for ind in indx:\n",
    "            self.indices_[ind] = True\n",
    "        return self\n",
    "    \n",
    "    def _get_support_mask(self):\n",
    "        check_is_fitted(self, 'indices_')\n",
    "        return self.indices_"
   ]
  },
  {
   "cell_type": "code",
   "execution_count": 24,
   "metadata": {},
   "outputs": [
    {
     "name": "stdout",
     "output_type": "stream",
     "text": [
      "accuracy: 0.737\n"
     ]
    }
   ],
   "source": [
    "# pipeline example\n",
    "mod = Pipeline([\n",
    "    #('dpp_select', DPPSelector(n_features=400)), \n",
    "    ('lm', SGDClassifier(loss='log', penalty='elasticnet', random_state=42))\n",
    "])\n",
    "mod.fit(X, y)\n",
    "yhat = mod.predict(X)\n",
    "mse = accuracy_score(y, yhat)\n",
    "print(\"accuracy: {}\".format(mse))"
   ]
  },
  {
   "cell_type": "code",
   "execution_count": 25,
   "metadata": {},
   "outputs": [
    {
     "name": "stdout",
     "output_type": "stream",
     "text": [
      "accuracy: 0.512\n"
     ]
    }
   ],
   "source": [
    "# pipeline example\n",
    "mod = Pipeline([\n",
    "    ('dpp_select', RandomSelector(n_features=50)), \n",
    "    ('lm', SGDClassifier(loss='log', penalty='elasticnet', random_state=42))\n",
    "])\n",
    "mod.fit(X, y)\n",
    "yhat = mod.predict(X)\n",
    "mse = accuracy_score(y, yhat)\n",
    "\n",
    "print(\"accuracy: {}\".format(mse))"
   ]
  },
  {
   "cell_type": "code",
   "execution_count": 26,
   "metadata": {},
   "outputs": [
    {
     "name": "stdout",
     "output_type": "stream",
     "text": [
      "accuracy: 0.614\n"
     ]
    }
   ],
   "source": [
    "# pipeline example\n",
    "mod = Pipeline([\n",
    "    ('dpp_select', DPPSelector(n_features=50)), \n",
    "    ('lm', SGDClassifier(loss='log', penalty='elasticnet', random_state=42))\n",
    "])\n",
    "mod.fit(X, y)\n",
    "yhat = mod.predict(X)\n",
    "mse = accuracy_score(y, yhat)\n",
    "\n",
    "print(\"accuracy: {}\".format(mse))"
   ]
  },
  {
   "cell_type": "code",
   "execution_count": 32,
   "metadata": {},
   "outputs": [
    {
     "data": {
      "text/plain": [
       "(1000, 400)"
      ]
     },
     "execution_count": 32,
     "metadata": {},
     "output_type": "execute_result"
    }
   ],
   "source": [
    "X.shape"
   ]
  },
  {
   "cell_type": "code",
   "execution_count": 31,
   "metadata": {},
   "outputs": [
    {
     "data": {
      "text/plain": [
       "(1000, 50)"
      ]
     },
     "execution_count": 31,
     "metadata": {},
     "output_type": "execute_result"
    }
   ],
   "source": [
    "mod.steps[0][1].transform(X).shape"
   ]
  },
  {
   "cell_type": "code",
   "execution_count": null,
   "metadata": {},
   "outputs": [],
   "source": [
    "# using spectral selection (unsupervised)\n",
    "from skfeature.function.similarity_based import SPEC\n",
    "\n",
    "mod = Pipeline([\n",
    "    ('dpp_select', SelectKBest(score_func=SPEC.spec, k=50)), \n",
    "    ('lm', SGDClassifier(loss='log', penalty='elasticnet', random_state=42))\n",
    "])\n",
    "\n",
    "mod.fit(X, y)\n",
    "yhat = mod.predict(X)\n",
    "mse = accuracy_score(y, yhat)\n",
    "\n",
    "print(\"accuracy: {}\".format(mse))"
   ]
  },
  {
   "cell_type": "code",
   "execution_count": null,
   "metadata": {},
   "outputs": [],
   "source": [
    "mod = Pipeline([\n",
    "    ('dpp_select', PCA(n_components = 50)), \n",
    "    ('lm', SGDClassifier(loss='log', penalty='elasticnet', random_state=42))\n",
    "])\n",
    "mod.fit(X, y)\n",
    "yhat = mod.predict(X)\n",
    "mse = accuracy_score(y, yhat)\n",
    "print(\"accuracy: {}\".format(mse))"
   ]
  },
  {
   "cell_type": "code",
   "execution_count": null,
   "metadata": {},
   "outputs": [],
   "source": [
    "mod = Pipeline([\n",
    "    ('dpp_select', KernelPCA(n_components = 50, kernel='rbf')), \n",
    "    ('lm', SGDClassifier(loss='log', penalty='elasticnet', random_state=42))\n",
    "])\n",
    "mod.fit(X, y)\n",
    "yhat = mod.predict(X)\n",
    "mse = accuracy_score(y, yhat)\n",
    "print(\"accuracy: {}\".format(mse))"
   ]
  },
  {
   "cell_type": "code",
   "execution_count": null,
   "metadata": {},
   "outputs": [],
   "source": [
    "# pipeline example\n",
    "mod = Pipeline([\n",
    "    ('dpp_select', SelectKBest(f_classif, k=50)), \n",
    "    ('lm', SGDClassifier(loss='log', penalty='elasticnet', random_state=42))\n",
    "])\n",
    "mod.fit(X, y)\n",
    "yhat = mod.predict(X)\n",
    "mse = accuracy_score(y, yhat)\n",
    "print(\"accuracy: {}\".format(mse))"
   ]
  },
  {
   "cell_type": "code",
   "execution_count": null,
   "metadata": {},
   "outputs": [],
   "source": [
    "# baseline...\n",
    "mod = SGDClassifier(loss='log', penalty='elasticnet', random_state=42)\n",
    "mod.fit(X, y)\n",
    "yhat = mod.predict(X)\n",
    "mse = accuracy_score(y, yhat)\n",
    "print(\"accuracy: {}\".format(mse))"
   ]
  },
  {
   "cell_type": "code",
   "execution_count": null,
   "metadata": {},
   "outputs": [],
   "source": [
    "mod = SGDClassifier(loss='log', penalty='elasticnet', random_state=42)\n",
    "rfe = RFE(estimator=mod, n_features_to_select=50)\n",
    "rfe.fit(X, y)\n",
    "#yhat = mod.predict(X)\n",
    "#mse = accuracy_score(y, yhat)\n",
    "#print(\"accuracy: {}\".format(mse))"
   ]
  },
  {
   "cell_type": "code",
   "execution_count": null,
   "metadata": {},
   "outputs": [],
   "source": [
    "X_subset = rfe.transform(X)\n",
    "mod.fit(X_subset, y)\n",
    "yhat = mod.predict(X_subset)\n",
    "mse = accuracy_score(y, yhat)\n",
    "print(\"accuracy: {}\".format(mse))"
   ]
  },
  {
   "cell_type": "code",
   "execution_count": null,
   "metadata": {
    "collapsed": true,
    "jupyter": {
     "outputs_hidden": true
    }
   },
   "outputs": [],
   "source": []
  }
 ],
 "metadata": {
  "kernelspec": {
   "display_name": "Python 3",
   "language": "python",
   "name": "python3"
  },
  "language_info": {
   "codemirror_mode": {
    "name": "ipython",
    "version": 3
   },
   "file_extension": ".py",
   "mimetype": "text/x-python",
   "name": "python",
   "nbconvert_exporter": "python",
   "pygments_lexer": "ipython3",
   "version": "3.7.9"
  }
 },
 "nbformat": 4,
 "nbformat_minor": 4
}
